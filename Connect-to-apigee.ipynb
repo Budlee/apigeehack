{
 "cells": [
  {
   "cell_type": "code",
   "execution_count": null,
   "metadata": {},
   "outputs": [],
   "source": [
    "import base64\n",
    "username = 'email'\n",
    "password = 'password'\n",
    "org='org'\n",
    "api_proxy = 'Example-proxy'\n",
    "userpassword = str.format('{}:{}',username,password)\n",
    "authHeader = base64.b64encode( bytes(userpassword, 'ascii') )\n",
    "httpScheme = 'https'"
   ]
  },
  {
   "cell_type": "markdown",
   "metadata": {},
   "source": [
    "## Adding in function to call http call"
   ]
  },
  {
   "cell_type": "code",
   "execution_count": null,
   "metadata": {},
   "outputs": [],
   "source": [
    "\n"
   ]
  },
  {
   "cell_type": "code",
   "execution_count": null,
   "metadata": {},
   "outputs": [],
   "source": [
    "import urllib\n",
    "import http\n",
    "\n",
    "def _create_proxy_request(org, env, proxy_name, rev):\n",
    "    deploy_proxy_url = 'https://api.enterprise.apigee.com/v1/\\\n",
    "organizations/{org_name}/\\\n",
    "environments/{env_name}/\\\n",
    "apis/{api_name}/\\\n",
    "revisions/{revision_number}/\\\n",
    "deployments'.format(org_name=org,env_name=env, api_name=proxy_name, revision_number=rev)\n",
    "    return urllib.parse.urlparse(deploy_proxy_url)\n",
    "\n",
    "def _request(method, authHeader, url, headers=None):\n",
    "    headers = {} if headers is None else headers\n",
    "    headers['Authorization'] = 'Basic {}'.format(authHeader.decode())\n",
    "    connection = http.client.HTTPSConnection(url.netloc) if url.scheme == 'https' else http.client.HTTPConnection(url.netloc)\n",
    "    connection.request(method, url.path, headers=headers)\n",
    "    return connection.getresponse()\n",
    "\n",
    "def _api_proxy_deploy_request(method, authHeader, url):\n",
    "    headers = {}\n",
    "    headers['Content-Type'] = 'application/x-www-form-urlencoded'\n",
    "    return _request(method, authHeader, url=url, headers=headers)\n",
    "\n",
    "def deploy_request(org, env, proxy_name, rev, authHeader):\n",
    "    parsed_url = _create_proxy_request(org, env, proxy_name, rev)\n",
    "    return _api_proxy_deploy_request('POST', authHeader, url=parsed_url)\n",
    "\n",
    "def undeploy_request(org, env, proxy_name, rev, authHeader):\n",
    "    parsed_url = _create_proxy_request(org, env, proxy_name, rev)\n",
    "    return _api_proxy_deploy_request('DELETE', authHeader, url=parsed_url)\n",
    "\n"
   ]
  },
  {
   "cell_type": "code",
   "execution_count": null,
   "metadata": {},
   "outputs": [],
   "source": [
    "\n",
    "\n",
    "u_response = undeploy_request(org=org, proxy_name=api_proxy, authHeader=authHeader, env='test', rev='1')\n",
    "d_response = deploy_request(org=org, proxy_name=api_proxy, authHeader=authHeader, env='prod', rev='1')\n",
    "d_response = deploy_request(org=org, proxy_name=api_proxy, authHeader=authHeader, env='test', rev='2')\n",
    "\n"
   ]
  },
  {
   "cell_type": "code",
   "execution_count": null,
   "metadata": {},
   "outputs": [],
   "source": [
    "def _create_get_proxy_request(org, proxy_name):\n",
    "    deploy_proxy_url = 'https://api.enterprise.apigee.com/v1/\\\n",
    "organizations/{org_name}/\\\n",
    "apis/{api_name}'.format(org_name=org, api_name=proxy_name)\n",
    "    return urllib.parse.urlparse(deploy_proxy_url)\n",
    "\n",
    "def get_proxy(org, proxy_name, authHeader):\n",
    "    parsed_url = _create_get_proxy_request(org, proxy_name)\n",
    "    print (parsed_url)\n",
    "    return _request('GET', authHeader, url=parsed_url)\n",
    "\n",
    "get_response = get_proxy(org=org, proxy_name=api_proxy, authHeader=authHeader)\n",
    "str_get_response = get_response.read().decode('utf-8')\n"
   ]
  },
  {
   "cell_type": "code",
   "execution_count": null,
   "metadata": {},
   "outputs": [],
   "source": [
    "# help(get_response)\n",
    "import json\n",
    "parsed = json.loads(str_get_response)\n",
    "print (json.dumps(parsed, indent=4, sort_keys=True))\n"
   ]
  },
  {
   "cell_type": "code",
   "execution_count": null,
   "metadata": {},
   "outputs": [],
   "source": [
    "u_response.__dict__"
   ]
  },
  {
   "cell_type": "code",
   "execution_count": null,
   "metadata": {},
   "outputs": [],
   "source": []
  }
 ],
 "metadata": {
  "kernelspec": {
   "display_name": "Python 3",
   "language": "python",
   "name": "python3"
  },
  "language_info": {
   "codemirror_mode": {
    "name": "ipython",
    "version": 3
   },
   "file_extension": ".py",
   "mimetype": "text/x-python",
   "name": "python",
   "nbconvert_exporter": "python",
   "pygments_lexer": "ipython3",
   "version": "3.7.0"
  }
 },
 "nbformat": 4,
 "nbformat_minor": 2
}
